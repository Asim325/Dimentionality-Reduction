{
 "cells": [
  {
   "cell_type": "code",
   "execution_count": 1,
   "metadata": {
    "id": "So2PnmIUAQ9h"
   },
   "outputs": [],
   "source": [
    "import numpy as np\n",
    "from sklearn.decomposition import PCA\n",
    "import matplotlib.pyplot as plt\n",
    "from sklearn.datasets import load_digits\n"
   ]
  },
  {
   "cell_type": "code",
   "execution_count": 5,
   "metadata": {
    "id": "rPoIaNVzAd6Q"
   },
   "outputs": [],
   "source": [
    "\n",
    "# Load sample images (digits dataset)\n",
    "digits = load_digits()\n",
    "data = digits.data\n",
    "images = digits.images\n",
    "\n",
    "#"
   ]
  },
  {
   "cell_type": "code",
   "execution_count": 6,
   "metadata": {
    "colab": {
     "base_uri": "https://localhost:8080/",
     "height": 111
    },
    "id": "FJL2k0qmBFy_",
    "outputId": "5791d44f-61fc-4aa2-f6b0-5d834b1ff919"
   },
   "outputs": [
    {
     "data": {
      "image/png": "[encoded data removed]",
      "text/plain": [
       "<Figure size 800x800 with 10 Axes>"
      ]
     },
     "metadata": {},
     "output_type": "display_data"
    }
   ],
   "source": [
    "# Display the first 10 images\n",
    "plt.figure(figsize=(8, 8))\n",
    "for i in range(10):\n",
    "    plt.subplot(1, 10, i + 1)\n",
    "    plt.imshow(images[i], cmap=plt.cm.gray_r, interpolation='nearest')\n",
    "    plt.title(f\"Digit {i}\")\n",
    "    plt.axis('off')\n",
    "\n",
    "plt.show()"
   ]
  },
  {
   "cell_type": "code",
   "execution_count": 4,
   "metadata": {
    "colab": {
     "base_uri": "https://localhost:8080/"
    },
    "id": "ORWDqlKTAovG",
    "outputId": "d1855876-668a-402c-ba6a-26e5d30f2ce6"
   },
   "outputs": [
    {
     "data": {
      "text/plain": [
       "(1797, 64)"
      ]
     },
     "execution_count": 4,
     "metadata": {},
     "output_type": "execute_result"
    }
   ],
   "source": [
    " #Flatten the 2D images into 1D arrays\n",
    "n_samples, n_features = data.shape\n",
    "\n",
    "data.shape"
   ]
  },
  {
   "cell_type": "code",
   "execution_count": 7,
   "metadata": {
    "id": "wjrpOvdDAvNp"
   },
   "outputs": [],
   "source": [
    "# Apply PCA and specify the number of components to retain\n",
    "n_components = 10  # You can change this number based on your requirement\n",
    "pca = PCA(n_components=n_components)\n",
    "transformed_data = pca.fit_transform(data)\n"
   ]
  },
  {
   "cell_type": "code",
   "execution_count": 9,
   "metadata": {
    "id": "6AAFCxMhBasv"
   },
   "outputs": [],
   "source": [
    "\n",
    "# Inverse transform to get the reduced data back to original space\n",
    "reconstructed_data = pca.inverse_transform(transformed_data)\n",
    "\n",
    "# Reshape the reconstructed data back to the original image shape\n",
    "reconstructed_images = reconstructed_data.reshape(images.shape)\n",
    "\n"
   ]
  },
  {
   "cell_type": "code",
   "execution_count": 10,
   "metadata": {
    "colab": {
     "base_uri": "https://localhost:8080/"
    },
    "id": "kBYUcFsyBkQD",
    "outputId": "182da346-35c0-44cd-9396-52c4c9d12499"
   },
   "outputs": [
    {
     "data": {
      "text/plain": [
       "(1797, 8, 8)"
      ]
     },
     "execution_count": 10,
     "metadata": {},
     "output_type": "execute_result"
    }
   ],
   "source": [
    "reconstructed_images.shape"
   ]
  },
  {
   "cell_type": "code",
   "execution_count": 13,
   "metadata": {
    "colab": {
     "base_uri": "https://localhost:8080/",
     "height": 385
    },
    "id": "Yyq_EtwwBehg",
    "outputId": "b8c19e80-d74b-497c-918c-2c2efb187a4d"
   },
   "outputs": [
    {
     "data": {
      "image/png": "[encoded data removed]",
      "text/plain": [
       "<Figure size 800x400 with 10 Axes>"
      ]
     },
     "metadata": {},
     "output_type": "display_data"
    }
   ],
   "source": [
    "# Visualize the original and reconstructed images\n",
    "plt.figure(figsize=(8, 4))\n",
    "for i in range(5):  # Show the first 5 images\n",
    "    # Original Image\n",
    "    plt.subplot(2, 5, i + 1)\n",
    "    plt.imshow(images[i], cmap=plt.cm.gray_r, interpolation='nearest')\n",
    "    #plt.imshow(images[i],  interpolation='nearest')\n",
    "    plt.title('Original')\n",
    "    plt.axis('off')\n",
    "\n",
    "    # Reconstructed Image\n",
    "    plt.subplot(2, 5, i + 6)\n",
    "    plt.imshow(reconstructed_images[i], cmap=plt.cm.gray_r, interpolation='nearest')\n",
    "    #plt.imshow(reconstructed_images[i], interpolation='nearest')\n",
    "\n",
    "    plt.title('Reconstructed')\n",
    "    plt.axis('off')\n",
    "\n",
    "plt.tight_layout()\n",
    "plt.show()\n"
   ]
  },
  {
   "cell_type": "code",
   "execution_count": null,
   "metadata": {
    "id": "KxEtSWaoBqYi"
   },
   "outputs": [],
   "source": []
  }
 ],
 "metadata": {
  "accelerator": "GPU",
  "colab": {
   "gpuType": "T4",
   "provenance": []
  },
  "kernelspec": {
   "display_name": "Python 3",
   "name": "python3"
  },
  "language_info": {
   "name": "python"
  }
 },
 "nbformat": 4,
 "nbformat_minor": 0
}
